{
 "cells": [
  {
   "cell_type": "code",
   "execution_count": 5,
   "metadata": {},
   "outputs": [
    {
     "data": {
      "text/plain": [
       "array([[45, 40, 65],\n",
       "       [ 4,  5,  6],\n",
       "       [10, 30, 60],\n",
       "       [20, 45, 32],\n",
       "       [56, 28, 21],\n",
       "       [ 3,  9, 11]])"
      ]
     },
     "execution_count": 5,
     "metadata": {},
     "output_type": "execute_result"
    }
   ],
   "source": [
    "import numpy as np\n",
    "\n",
    "x = np.array([ [45,40,65],\n",
    "            [4,5,6],\n",
    "            [10,30,60],\n",
    "            [20,45,32],\n",
    "            [56,28,21],\n",
    "            [3,9,11]])\n",
    "x"
   ]
  },
  {
   "cell_type": "code",
   "execution_count": 6,
   "metadata": {},
   "outputs": [],
   "source": [
    "np.apply_over_axes?"
   ]
  },
  {
   "cell_type": "code",
   "execution_count": 9,
   "metadata": {},
   "outputs": [
    {
     "data": {
      "text/plain": [
       "array([[23.        , 26.16666667, 32.5       ]])"
      ]
     },
     "execution_count": 9,
     "metadata": {},
     "output_type": "execute_result"
    }
   ],
   "source": [
    "x_means = np.apply_over_axes(np.mean, x, axes = 0)\n",
    "x_means"
   ]
  },
  {
   "cell_type": "code",
   "execution_count": 12,
   "metadata": {},
   "outputs": [
    {
     "data": {
      "text/plain": [
       "array([[ 22.        ,  13.83333333,  32.5       ],\n",
       "       [-19.        , -21.16666667, -26.5       ],\n",
       "       [-13.        ,   3.83333333,  27.5       ],\n",
       "       [ -3.        ,  18.83333333,  -0.5       ],\n",
       "       [ 33.        ,   1.83333333, -11.5       ],\n",
       "       [-20.        , -17.16666667, -21.5       ]])"
      ]
     },
     "execution_count": 12,
     "metadata": {},
     "output_type": "execute_result"
    }
   ],
   "source": [
    "x_demean = x - x_means\n",
    "x_demean"
   ]
  },
  {
   "cell_type": "code",
   "execution_count": 14,
   "metadata": {},
   "outputs": [
    {
     "data": {
      "text/plain": [
       "(1, 3)"
      ]
     },
     "execution_count": 14,
     "metadata": {},
     "output_type": "execute_result"
    }
   ],
   "source": [
    "x_means.shape"
   ]
  },
  {
   "cell_type": "code",
   "execution_count": 15,
   "metadata": {},
   "outputs": [
    {
     "data": {
      "text/plain": [
       "(6, 3)"
      ]
     },
     "execution_count": 15,
     "metadata": {},
     "output_type": "execute_result"
    }
   ],
   "source": [
    "x.shape"
   ]
  },
  {
   "cell_type": "code",
   "execution_count": 41,
   "metadata": {},
   "outputs": [
    {
     "data": {
      "text/plain": [
       "array([[20.46134567, 14.75823687, 22.76510488]])"
      ]
     },
     "execution_count": 41,
     "metadata": {},
     "output_type": "execute_result"
    }
   ],
   "source": [
    "x_sds = np.apply_over_axes(lambda x, axis: np.std( x, ddof = 0, axis=axis) , x, axes = 0)\n",
    "x_sds"
   ]
  },
  {
   "cell_type": "code",
   "execution_count": 42,
   "metadata": {},
   "outputs": [
    {
     "data": {
      "text/plain": [
       "array([[ 1.0751981 ,  0.93732967,  1.42762356],\n",
       "       [-0.92858018, -1.43422733, -1.16406229],\n",
       "       [-0.63534433,  0.25974196,  1.20798916],\n",
       "       [-0.14661792,  1.27612353, -0.02196344],\n",
       "       [ 1.61279715,  0.12422441, -0.5051591 ],\n",
       "       [-0.97745282, -1.16319224, -0.94442789]])"
      ]
     },
     "execution_count": 42,
     "metadata": {},
     "output_type": "execute_result"
    }
   ],
   "source": [
    "x_demean_scaled = x_demean/x_sds\n",
    "x_demean_scaled"
   ]
  },
  {
   "cell_type": "code",
   "execution_count": 43,
   "metadata": {},
   "outputs": [
    {
     "data": {
      "text/plain": [
       "array([[ 1.0751981 ,  0.93732967,  1.42762356],\n",
       "       [-0.92858018, -1.43422733, -1.16406229],\n",
       "       [-0.63534433,  0.25974196,  1.20798916],\n",
       "       [-0.14661792,  1.27612353, -0.02196344],\n",
       "       [ 1.61279715,  0.12422441, -0.5051591 ],\n",
       "       [-0.97745282, -1.16319224, -0.94442789]])"
      ]
     },
     "execution_count": 43,
     "metadata": {},
     "output_type": "execute_result"
    }
   ],
   "source": [
    "from sklearn.preprocessing import StandardScaler\n",
    "StandardScaler().fit_transform(x)"
   ]
  },
  {
   "cell_type": "code",
   "execution_count": 40,
   "metadata": {},
   "outputs": [],
   "source": [
    "np.std?"
   ]
  },
  {
   "cell_type": "code",
   "execution_count": null,
   "metadata": {},
   "outputs": [],
   "source": []
  }
 ],
 "metadata": {
  "kernelspec": {
   "display_name": "Python 3",
   "language": "python",
   "name": "python3"
  },
  "language_info": {
   "codemirror_mode": {
    "name": "ipython",
    "version": 3
   },
   "file_extension": ".py",
   "mimetype": "text/x-python",
   "name": "python",
   "nbconvert_exporter": "python",
   "pygments_lexer": "ipython3",
   "version": "3.7.9"
  }
 },
 "nbformat": 4,
 "nbformat_minor": 4
}
